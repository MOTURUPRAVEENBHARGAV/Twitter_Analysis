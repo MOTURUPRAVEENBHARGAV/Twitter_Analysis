{
 "cells": [
  {
   "cell_type": "code",
   "execution_count": 1,
   "metadata": {
    "colab": {
     "base_uri": "https://localhost:8080/",
     "height": 87
    },
    "colab_type": "code",
    "executionInfo": {
     "elapsed": 3942,
     "status": "ok",
     "timestamp": 1597405564733,
     "user": {
      "displayName": "praveen bhargav",
      "photoUrl": "https://lh3.googleusercontent.com/a-/AOh14Gi3oCF7EPGPsOEzcwejqqKBKRsG-rJ504fyLO3p=s64",
      "userId": "07898829088085257669"
     },
     "user_tz": -330
    },
    "id": "iq9X7F37s6Zg",
    "outputId": "d02e6f07-fbc8-4078-91f0-5d6113961c53"
   },
   "outputs": [
    {
     "name": "stdout",
     "output_type": "stream",
     "text": [
      "Succesfully imported all the above libraries\n"
     ]
    }
   ],
   "source": [
    "import numpy as np\n",
    "import pandas as pd\n",
    "import seaborn as sns\n",
    "import matplotlib.pyplot as plt\n",
    "%matplotlib notebook\n",
    "import warnings\n",
    "warnings.filterwarnings('ignore')\n",
    "import re\n",
    "\n",
    "#importing NLP Libraries\n",
    "\n",
    "import nltk\n",
    "from nltk.corpus import stopwords\n",
    "# stopwords = stopwords.words('english')\n",
    "from nltk.tokenize import TweetTokenizer\n",
    "from nltk.stem import PorterStemmer\n",
    "from nltk.stem import WordNetLemmatizer\n",
    "from sklearn.feature_extraction.text import CountVectorizer #for creating Bag of Words\n",
    "from sklearn.feature_extraction.text import TfidfVectorizer\n",
    "from wordcloud import WordCloud, STOPWORDS, ImageColorGenerator\n",
    "\n",
    "print(f'Succesfully imported all the above libraries')"
   ]
  },
  {
   "cell_type": "markdown",
   "metadata": {
    "colab_type": "text",
    "id": "cmQnRWF5ViuV"
   },
   "source": [
    "### About the Data\n",
    "\n",
    "This is the sentiment140 dataset.\n",
    "It contains 1,600,000 tweets extracted using the twitter api . The tweets have been annotated (0 = negative, 2 = neutral, 4 = positive) and they can be used to detect sentiment .\n",
    "It contains the following 6 fields:\n",
    "\n",
    "- target: the polarity of the tweet (0 = negative, 2 = neutral, 4 = positive)\n",
    "+ ids: The id of the tweet ( 2087)\n",
    "- date: the date of the tweet (Sat May 16 23:58:44 UTC 2009)\n",
    "- flag: The query (lyx). If there is no query, then this value is NO_QUERY.\n",
    "- user: the user that tweeted (robotickilldozr)\n",
    "- text: the text of the tweet (Lyx is cool)\n",
    "\n"
   ]
  },
  {
   "cell_type": "code",
   "execution_count": 2,
   "metadata": {
    "colab": {
     "base_uri": "https://localhost:8080/",
     "height": 343
    },
    "colab_type": "code",
    "executionInfo": {
     "elapsed": 18721,
     "status": "ok",
     "timestamp": 1597405579666,
     "user": {
      "displayName": "praveen bhargav",
      "photoUrl": "https://lh3.googleusercontent.com/a-/AOh14Gi3oCF7EPGPsOEzcwejqqKBKRsG-rJ504fyLO3p=s64",
      "userId": "07898829088085257669"
     },
     "user_tz": -330
    },
    "id": "y2KKF3_TPsMx",
    "outputId": "79abb8fb-bc33-47ae-890b-baa60ade8548"
   },
   "outputs": [
    {
     "data": {
      "text/html": [
       "<div>\n",
       "<style scoped>\n",
       "    .dataframe tbody tr th:only-of-type {\n",
       "        vertical-align: middle;\n",
       "    }\n",
       "\n",
       "    .dataframe tbody tr th {\n",
       "        vertical-align: top;\n",
       "    }\n",
       "\n",
       "    .dataframe thead th {\n",
       "        text-align: right;\n",
       "    }\n",
       "</style>\n",
       "<table border=\"1\" class=\"dataframe\">\n",
       "  <thead>\n",
       "    <tr style=\"text-align: right;\">\n",
       "      <th></th>\n",
       "      <th>0</th>\n",
       "      <th>1</th>\n",
       "      <th>2</th>\n",
       "      <th>3</th>\n",
       "      <th>4</th>\n",
       "      <th>5</th>\n",
       "    </tr>\n",
       "  </thead>\n",
       "  <tbody>\n",
       "    <tr>\n",
       "      <th>0</th>\n",
       "      <td>0</td>\n",
       "      <td>1467810369</td>\n",
       "      <td>Mon Apr 06 22:19:45 PDT 2009</td>\n",
       "      <td>NO_QUERY</td>\n",
       "      <td>_TheSpecialOne_</td>\n",
       "      <td>@switchfoot http://twitpic.com/2y1zl - Awww, t...</td>\n",
       "    </tr>\n",
       "    <tr>\n",
       "      <th>1</th>\n",
       "      <td>0</td>\n",
       "      <td>1467810672</td>\n",
       "      <td>Mon Apr 06 22:19:49 PDT 2009</td>\n",
       "      <td>NO_QUERY</td>\n",
       "      <td>scotthamilton</td>\n",
       "      <td>is upset that he can't update his Facebook by ...</td>\n",
       "    </tr>\n",
       "    <tr>\n",
       "      <th>2</th>\n",
       "      <td>0</td>\n",
       "      <td>1467810917</td>\n",
       "      <td>Mon Apr 06 22:19:53 PDT 2009</td>\n",
       "      <td>NO_QUERY</td>\n",
       "      <td>mattycus</td>\n",
       "      <td>@Kenichan I dived many times for the ball. Man...</td>\n",
       "    </tr>\n",
       "    <tr>\n",
       "      <th>3</th>\n",
       "      <td>0</td>\n",
       "      <td>1467811184</td>\n",
       "      <td>Mon Apr 06 22:19:57 PDT 2009</td>\n",
       "      <td>NO_QUERY</td>\n",
       "      <td>ElleCTF</td>\n",
       "      <td>my whole body feels itchy and like its on fire</td>\n",
       "    </tr>\n",
       "    <tr>\n",
       "      <th>4</th>\n",
       "      <td>0</td>\n",
       "      <td>1467811193</td>\n",
       "      <td>Mon Apr 06 22:19:57 PDT 2009</td>\n",
       "      <td>NO_QUERY</td>\n",
       "      <td>Karoli</td>\n",
       "      <td>@nationwideclass no, it's not behaving at all....</td>\n",
       "    </tr>\n",
       "    <tr>\n",
       "      <th>5</th>\n",
       "      <td>0</td>\n",
       "      <td>1467811372</td>\n",
       "      <td>Mon Apr 06 22:20:00 PDT 2009</td>\n",
       "      <td>NO_QUERY</td>\n",
       "      <td>joy_wolf</td>\n",
       "      <td>@Kwesidei not the whole crew</td>\n",
       "    </tr>\n",
       "    <tr>\n",
       "      <th>6</th>\n",
       "      <td>0</td>\n",
       "      <td>1467811592</td>\n",
       "      <td>Mon Apr 06 22:20:03 PDT 2009</td>\n",
       "      <td>NO_QUERY</td>\n",
       "      <td>mybirch</td>\n",
       "      <td>Need a hug</td>\n",
       "    </tr>\n",
       "    <tr>\n",
       "      <th>7</th>\n",
       "      <td>0</td>\n",
       "      <td>1467811594</td>\n",
       "      <td>Mon Apr 06 22:20:03 PDT 2009</td>\n",
       "      <td>NO_QUERY</td>\n",
       "      <td>coZZ</td>\n",
       "      <td>@LOLTrish hey  long time no see! Yes.. Rains a...</td>\n",
       "    </tr>\n",
       "    <tr>\n",
       "      <th>8</th>\n",
       "      <td>0</td>\n",
       "      <td>1467811795</td>\n",
       "      <td>Mon Apr 06 22:20:05 PDT 2009</td>\n",
       "      <td>NO_QUERY</td>\n",
       "      <td>2Hood4Hollywood</td>\n",
       "      <td>@Tatiana_K nope they didn't have it</td>\n",
       "    </tr>\n",
       "    <tr>\n",
       "      <th>9</th>\n",
       "      <td>0</td>\n",
       "      <td>1467812025</td>\n",
       "      <td>Mon Apr 06 22:20:09 PDT 2009</td>\n",
       "      <td>NO_QUERY</td>\n",
       "      <td>mimismo</td>\n",
       "      <td>@twittera que me muera ?</td>\n",
       "    </tr>\n",
       "  </tbody>\n",
       "</table>\n",
       "</div>"
      ],
      "text/plain": [
       "   0           1                             2         3                4  \\\n",
       "0  0  1467810369  Mon Apr 06 22:19:45 PDT 2009  NO_QUERY  _TheSpecialOne_   \n",
       "1  0  1467810672  Mon Apr 06 22:19:49 PDT 2009  NO_QUERY    scotthamilton   \n",
       "2  0  1467810917  Mon Apr 06 22:19:53 PDT 2009  NO_QUERY         mattycus   \n",
       "3  0  1467811184  Mon Apr 06 22:19:57 PDT 2009  NO_QUERY          ElleCTF   \n",
       "4  0  1467811193  Mon Apr 06 22:19:57 PDT 2009  NO_QUERY           Karoli   \n",
       "5  0  1467811372  Mon Apr 06 22:20:00 PDT 2009  NO_QUERY         joy_wolf   \n",
       "6  0  1467811592  Mon Apr 06 22:20:03 PDT 2009  NO_QUERY          mybirch   \n",
       "7  0  1467811594  Mon Apr 06 22:20:03 PDT 2009  NO_QUERY             coZZ   \n",
       "8  0  1467811795  Mon Apr 06 22:20:05 PDT 2009  NO_QUERY  2Hood4Hollywood   \n",
       "9  0  1467812025  Mon Apr 06 22:20:09 PDT 2009  NO_QUERY          mimismo   \n",
       "\n",
       "                                                   5  \n",
       "0  @switchfoot http://twitpic.com/2y1zl - Awww, t...  \n",
       "1  is upset that he can't update his Facebook by ...  \n",
       "2  @Kenichan I dived many times for the ball. Man...  \n",
       "3    my whole body feels itchy and like its on fire   \n",
       "4  @nationwideclass no, it's not behaving at all....  \n",
       "5                      @Kwesidei not the whole crew   \n",
       "6                                        Need a hug   \n",
       "7  @LOLTrish hey  long time no see! Yes.. Rains a...  \n",
       "8               @Tatiana_K nope they didn't have it   \n",
       "9                          @twittera que me muera ?   "
      ]
     },
     "execution_count": 2,
     "metadata": {},
     "output_type": "execute_result"
    }
   ],
   "source": [
    "twitter=pd.read_csv(\"twitter reviews.csv\",header=None,encoding='latin-1')\n",
    "twitter.head(10)"
   ]
  },
  {
   "cell_type": "code",
   "execution_count": 3,
   "metadata": {
    "colab": {},
    "colab_type": "code",
    "executionInfo": {
     "elapsed": 18710,
     "status": "ok",
     "timestamp": 1597405579668,
     "user": {
      "displayName": "praveen bhargav",
      "photoUrl": "https://lh3.googleusercontent.com/a-/AOh14Gi3oCF7EPGPsOEzcwejqqKBKRsG-rJ504fyLO3p=s64",
      "userId": "07898829088085257669"
     },
     "user_tz": -330
    },
    "id": "0OKTlTVePy6e"
   },
   "outputs": [],
   "source": [
    "twitter.columns=[\"target\",\"ids\",\"date\",\"flag\",\"user\",\"text\"]"
   ]
  },
  {
   "cell_type": "code",
   "execution_count": 5,
   "metadata": {
    "colab": {
     "base_uri": "https://localhost:8080/",
     "height": 195
    },
    "colab_type": "code",
    "executionInfo": {
     "elapsed": 1161,
     "status": "ok",
     "timestamp": 1597388111255,
     "user": {
      "displayName": "praveen bhargav",
      "photoUrl": "https://lh3.googleusercontent.com/a-/AOh14Gi3oCF7EPGPsOEzcwejqqKBKRsG-rJ504fyLO3p=s64",
      "userId": "07898829088085257669"
     },
     "user_tz": -330
    },
    "id": "Kh4krLi6WwAZ",
    "outputId": "48248d68-d1ff-4a16-d8c9-8984e294815f"
   },
   "outputs": [
    {
     "data": {
      "text/html": [
       "<div>\n",
       "<style scoped>\n",
       "    .dataframe tbody tr th:only-of-type {\n",
       "        vertical-align: middle;\n",
       "    }\n",
       "\n",
       "    .dataframe tbody tr th {\n",
       "        vertical-align: top;\n",
       "    }\n",
       "\n",
       "    .dataframe thead th {\n",
       "        text-align: right;\n",
       "    }\n",
       "</style>\n",
       "<table border=\"1\" class=\"dataframe\">\n",
       "  <thead>\n",
       "    <tr style=\"text-align: right;\">\n",
       "      <th></th>\n",
       "      <th>target</th>\n",
       "      <th>ids</th>\n",
       "      <th>date</th>\n",
       "      <th>flag</th>\n",
       "      <th>user</th>\n",
       "      <th>text</th>\n",
       "    </tr>\n",
       "  </thead>\n",
       "  <tbody>\n",
       "    <tr>\n",
       "      <th>0</th>\n",
       "      <td>0</td>\n",
       "      <td>1467810369</td>\n",
       "      <td>Mon Apr 06 22:19:45 PDT 2009</td>\n",
       "      <td>NO_QUERY</td>\n",
       "      <td>_TheSpecialOne_</td>\n",
       "      <td>@switchfoot http://twitpic.com/2y1zl - Awww, t...</td>\n",
       "    </tr>\n",
       "    <tr>\n",
       "      <th>1</th>\n",
       "      <td>0</td>\n",
       "      <td>1467810672</td>\n",
       "      <td>Mon Apr 06 22:19:49 PDT 2009</td>\n",
       "      <td>NO_QUERY</td>\n",
       "      <td>scotthamilton</td>\n",
       "      <td>is upset that he can't update his Facebook by ...</td>\n",
       "    </tr>\n",
       "    <tr>\n",
       "      <th>2</th>\n",
       "      <td>0</td>\n",
       "      <td>1467810917</td>\n",
       "      <td>Mon Apr 06 22:19:53 PDT 2009</td>\n",
       "      <td>NO_QUERY</td>\n",
       "      <td>mattycus</td>\n",
       "      <td>@Kenichan I dived many times for the ball. Man...</td>\n",
       "    </tr>\n",
       "    <tr>\n",
       "      <th>3</th>\n",
       "      <td>0</td>\n",
       "      <td>1467811184</td>\n",
       "      <td>Mon Apr 06 22:19:57 PDT 2009</td>\n",
       "      <td>NO_QUERY</td>\n",
       "      <td>ElleCTF</td>\n",
       "      <td>my whole body feels itchy and like its on fire</td>\n",
       "    </tr>\n",
       "    <tr>\n",
       "      <th>4</th>\n",
       "      <td>0</td>\n",
       "      <td>1467811193</td>\n",
       "      <td>Mon Apr 06 22:19:57 PDT 2009</td>\n",
       "      <td>NO_QUERY</td>\n",
       "      <td>Karoli</td>\n",
       "      <td>@nationwideclass no, it's not behaving at all....</td>\n",
       "    </tr>\n",
       "  </tbody>\n",
       "</table>\n",
       "</div>"
      ],
      "text/plain": [
       "   target         ids                          date      flag  \\\n",
       "0       0  1467810369  Mon Apr 06 22:19:45 PDT 2009  NO_QUERY   \n",
       "1       0  1467810672  Mon Apr 06 22:19:49 PDT 2009  NO_QUERY   \n",
       "2       0  1467810917  Mon Apr 06 22:19:53 PDT 2009  NO_QUERY   \n",
       "3       0  1467811184  Mon Apr 06 22:19:57 PDT 2009  NO_QUERY   \n",
       "4       0  1467811193  Mon Apr 06 22:19:57 PDT 2009  NO_QUERY   \n",
       "\n",
       "              user                                               text  \n",
       "0  _TheSpecialOne_  @switchfoot http://twitpic.com/2y1zl - Awww, t...  \n",
       "1    scotthamilton  is upset that he can't update his Facebook by ...  \n",
       "2         mattycus  @Kenichan I dived many times for the ball. Man...  \n",
       "3          ElleCTF    my whole body feels itchy and like its on fire   \n",
       "4           Karoli  @nationwideclass no, it's not behaving at all....  "
      ]
     },
     "execution_count": 5,
     "metadata": {},
     "output_type": "execute_result"
    }
   ],
   "source": [
    "twitter.head()"
   ]
  },
  {
   "cell_type": "code",
   "execution_count": null,
   "metadata": {
    "colab": {
     "base_uri": "https://localhost:8080/",
     "height": 50
    },
    "colab_type": "code",
    "executionInfo": {
     "elapsed": 45560,
     "status": "ok",
     "timestamp": 1597312481108,
     "user": {
      "displayName": "praveen bhargav",
      "photoUrl": "https://lh3.googleusercontent.com/a-/AOh14Gi3oCF7EPGPsOEzcwejqqKBKRsG-rJ504fyLO3p=s64",
      "userId": "07898829088085257669"
     },
     "user_tz": -330
    },
    "id": "uTfGTRCXWxOp",
    "outputId": "5d087dbf-0429-47ed-cab1-db0f0439217c"
   },
   "outputs": [
    {
     "name": "stdout",
     "output_type": "stream",
     "text": [
      "No. of Rows: 1600000\n",
      "No. of columns:6\n"
     ]
    }
   ],
   "source": [
    "print(f\"No. of Rows: {twitter.shape[0]}\\nNo. of columns:{twitter.shape[1]}\")"
   ]
  },
  {
   "cell_type": "code",
   "execution_count": null,
   "metadata": {
    "colab": {
     "base_uri": "https://localhost:8080/",
     "height": 67
    },
    "colab_type": "code",
    "executionInfo": {
     "elapsed": 45539,
     "status": "ok",
     "timestamp": 1597312481110,
     "user": {
      "displayName": "praveen bhargav",
      "photoUrl": "https://lh3.googleusercontent.com/a-/AOh14Gi3oCF7EPGPsOEzcwejqqKBKRsG-rJ504fyLO3p=s64",
      "userId": "07898829088085257669"
     },
     "user_tz": -330
    },
    "id": "9KuMlLDL1LLv",
    "outputId": "e2513e05-db4c-4830-d0a8-1ce129f1fdea"
   },
   "outputs": [
    {
     "data": {
      "text/plain": [
       "4    800000\n",
       "0    800000\n",
       "Name: target, dtype: int64"
      ]
     },
     "execution_count": 6,
     "metadata": {
      "tags": []
     },
     "output_type": "execute_result"
    }
   ],
   "source": [
    "twitter.target.value_counts()"
   ]
  },
  {
   "cell_type": "code",
   "execution_count": 4,
   "metadata": {
    "colab": {
     "base_uri": "https://localhost:8080/",
     "height": 67
    },
    "colab_type": "code",
    "executionInfo": {
     "elapsed": 18673,
     "status": "ok",
     "timestamp": 1597405579670,
     "user": {
      "displayName": "praveen bhargav",
      "photoUrl": "https://lh3.googleusercontent.com/a-/AOh14Gi3oCF7EPGPsOEzcwejqqKBKRsG-rJ504fyLO3p=s64",
      "userId": "07898829088085257669"
     },
     "user_tz": -330
    },
    "id": "3uFuKIsahRhS",
    "outputId": "966e9f73-36c1-4c17-ae7f-2b04bfdbf6cb"
   },
   "outputs": [
    {
     "data": {
      "text/plain": [
       "1    800000\n",
       "0    800000\n",
       "Name: target, dtype: int64"
      ]
     },
     "execution_count": 4,
     "metadata": {},
     "output_type": "execute_result"
    }
   ],
   "source": [
    "twitter[\"target\"]=np.where(twitter[\"target\"]==4,1,0)\n",
    "twitter.target.value_counts()"
   ]
  },
  {
   "cell_type": "code",
   "execution_count": null,
   "metadata": {
    "colab": {},
    "colab_type": "code",
    "id": "JFDyji6XW9jm"
   },
   "outputs": [],
   "source": [
    "# print(\"No. of Rows: %d\\nNo. of columns: %d\" %(twitter.shape[0],twitter.shape[1]))"
   ]
  },
  {
   "cell_type": "markdown",
   "metadata": {
    "colab_type": "text",
    "id": "X10t6ME_YG01"
   },
   "source": [
    "For instance lets convert the supervised data into unsupervised data, so that lets drop the target column and process the unsupervised techniques like (TextBlob, IBM Watson,NLTK VADER) to predict the ploarity (target) variables"
   ]
  },
  {
   "cell_type": "code",
   "execution_count": null,
   "metadata": {
    "colab": {
     "base_uri": "https://localhost:8080/",
     "height": 373
    },
    "colab_type": "code",
    "executionInfo": {
     "elapsed": 25910,
     "status": "ok",
     "timestamp": 1597312543899,
     "user": {
      "displayName": "praveen bhargav",
      "photoUrl": "https://lh3.googleusercontent.com/a-/AOh14Gi3oCF7EPGPsOEzcwejqqKBKRsG-rJ504fyLO3p=s64",
      "userId": "07898829088085257669"
     },
     "user_tz": -330
    },
    "id": "XYjxBCmeYGPS",
    "outputId": "23ef38b7-4b08-4db9-b5f3-d03d00884237"
   },
   "outputs": [
    {
     "name": "stdout",
     "output_type": "stream",
     "text": [
      "Collecting watson_developer_cloud\n",
      "\u001b[?25l  Downloading https://files.pythonhosted.org/packages/fc/a5/a89fc49bd82eb6ea569e45b43383c28cd51b5076f43010dcc3331c137ff5/watson-developer-cloud-2.10.1.tar.gz (248kB)\n",
      "\r",
      "\u001b[K     |█▎                              | 10kB 23.6MB/s eta 0:00:01\r",
      "\u001b[K     |██▋                             | 20kB 6.1MB/s eta 0:00:01\r",
      "\u001b[K     |████                            | 30kB 7.6MB/s eta 0:00:01\r",
      "\u001b[K     |█████▎                          | 40kB 8.4MB/s eta 0:00:01\r",
      "\u001b[K     |██████▋                         | 51kB 7.2MB/s eta 0:00:01\r",
      "\u001b[K     |████████                        | 61kB 8.1MB/s eta 0:00:01\r",
      "\u001b[K     |█████████▎                      | 71kB 8.4MB/s eta 0:00:01\r",
      "\u001b[K     |██████████▋                     | 81kB 8.7MB/s eta 0:00:01\r",
      "\u001b[K     |███████████▉                    | 92kB 8.9MB/s eta 0:00:01\r",
      "\u001b[K     |█████████████▏                  | 102kB 9.5MB/s eta 0:00:01\r",
      "\u001b[K     |██████████████▌                 | 112kB 9.5MB/s eta 0:00:01\r",
      "\u001b[K     |███████████████▉                | 122kB 9.5MB/s eta 0:00:01\r",
      "\u001b[K     |█████████████████▏              | 133kB 9.5MB/s eta 0:00:01\r",
      "\u001b[K     |██████████████████▌             | 143kB 9.5MB/s eta 0:00:01\r",
      "\u001b[K     |███████████████████▉            | 153kB 9.5MB/s eta 0:00:01\r",
      "\u001b[K     |█████████████████████▏          | 163kB 9.5MB/s eta 0:00:01\r",
      "\u001b[K     |██████████████████████▌         | 174kB 9.5MB/s eta 0:00:01\r",
      "\u001b[K     |███████████████████████▊        | 184kB 9.5MB/s eta 0:00:01\r",
      "\u001b[K     |█████████████████████████       | 194kB 9.5MB/s eta 0:00:01\r",
      "\u001b[K     |██████████████████████████▍     | 204kB 9.5MB/s eta 0:00:01\r",
      "\u001b[K     |███████████████████████████▊    | 215kB 9.5MB/s eta 0:00:01\r",
      "\u001b[K     |█████████████████████████████   | 225kB 9.5MB/s eta 0:00:01\r",
      "\u001b[K     |██████████████████████████████▍ | 235kB 9.5MB/s eta 0:00:01\r",
      "\u001b[K     |███████████████████████████████▊| 245kB 9.5MB/s eta 0:00:01\r",
      "\u001b[K     |████████████████████████████████| 256kB 9.5MB/s \n",
      "\u001b[?25hRequirement already satisfied: requests<3.0,>=2.0 in /usr/local/lib/python3.6/dist-packages (from watson_developer_cloud) (2.23.0)\n",
      "Requirement already satisfied: python_dateutil>=2.5.3 in /usr/local/lib/python3.6/dist-packages (from watson_developer_cloud) (2.8.1)\n",
      "Collecting websocket-client==0.48.0\n",
      "\u001b[?25l  Downloading https://files.pythonhosted.org/packages/8a/a1/72ef9aa26cfe1a75cee09fc1957e4723add9de098c15719416a1ee89386b/websocket_client-0.48.0-py2.py3-none-any.whl (198kB)\n",
      "\r",
      "\u001b[K     |█▋                              | 10kB 21.9MB/s eta 0:00:01\r",
      "\u001b[K     |███▎                            | 20kB 31.6MB/s eta 0:00:01\r",
      "\u001b[K     |█████                           | 30kB 39.5MB/s eta 0:00:01\r",
      "\u001b[K     |██████▋                         | 40kB 29.2MB/s eta 0:00:01\r",
      "\u001b[K     |████████▎                       | 51kB 22.1MB/s eta 0:00:01\r",
      "\u001b[K     |██████████                      | 61kB 25.0MB/s eta 0:00:01\r",
      "\u001b[K     |███████████▋                    | 71kB 22.1MB/s eta 0:00:01\r",
      "\u001b[K     |█████████████▏                  | 81kB 24.1MB/s eta 0:00:01\r",
      "\u001b[K     |██████████████▉                 | 92kB 22.9MB/s eta 0:00:01\r",
      "\u001b[K     |████████████████▌               | 102kB 19.9MB/s eta 0:00:01\r",
      "\u001b[K     |██████████████████▏             | 112kB 19.9MB/s eta 0:00:01\r",
      "\u001b[K     |███████████████████▉            | 122kB 19.9MB/s eta 0:00:01\r",
      "\u001b[K     |█████████████████████▌          | 133kB 19.9MB/s eta 0:00:01\r",
      "\u001b[K     |███████████████████████▏        | 143kB 19.9MB/s eta 0:00:01\r",
      "\u001b[K     |████████████████████████▊       | 153kB 19.9MB/s eta 0:00:01\r",
      "\u001b[K     |██████████████████████████▍     | 163kB 19.9MB/s eta 0:00:01\r",
      "\u001b[K     |████████████████████████████    | 174kB 19.9MB/s eta 0:00:01\r",
      "\u001b[K     |█████████████████████████████▊  | 184kB 19.9MB/s eta 0:00:01\r",
      "\u001b[K     |███████████████████████████████▍| 194kB 19.9MB/s eta 0:00:01\r",
      "\u001b[K     |████████████████████████████████| 204kB 19.9MB/s \n",
      "\u001b[?25hRequirement already satisfied: idna<3,>=2.5 in /usr/local/lib/python3.6/dist-packages (from requests<3.0,>=2.0->watson_developer_cloud) (2.10)\n",
      "Requirement already satisfied: chardet<4,>=3.0.2 in /usr/local/lib/python3.6/dist-packages (from requests<3.0,>=2.0->watson_developer_cloud) (3.0.4)\n",
      "Requirement already satisfied: urllib3!=1.25.0,!=1.25.1,<1.26,>=1.21.1 in /usr/local/lib/python3.6/dist-packages (from requests<3.0,>=2.0->watson_developer_cloud) (1.24.3)\n",
      "Requirement already satisfied: certifi>=2017.4.17 in /usr/local/lib/python3.6/dist-packages (from requests<3.0,>=2.0->watson_developer_cloud) (2020.6.20)\n",
      "Requirement already satisfied: six>=1.5 in /usr/local/lib/python3.6/dist-packages (from python_dateutil>=2.5.3->watson_developer_cloud) (1.15.0)\n",
      "Building wheels for collected packages: watson-developer-cloud\n",
      "  Building wheel for watson-developer-cloud (setup.py) ... \u001b[?25l\u001b[?25hdone\n",
      "  Created wheel for watson-developer-cloud: filename=watson_developer_cloud-2.10.1-cp36-none-any.whl size=252813 sha256=bf392e7e1f4b534442bcd4fa8c2615c04fbc29b1ddf51898a81c2971a2798eba\n",
      "  Stored in directory: /root/.cache/pip/wheels/ea/a7/19/fac0a408a586265eb374005308a7553d4494ab41b2fd88f5bc\n",
      "Successfully built watson-developer-cloud\n",
      "Installing collected packages: websocket-client, watson-developer-cloud\n",
      "Successfully installed watson-developer-cloud-2.10.1 websocket-client-0.48.0\n"
     ]
    }
   ],
   "source": [
    "!pip install watson_developer_cloud"
   ]
  },
  {
   "cell_type": "code",
   "execution_count": null,
   "metadata": {
    "colab": {
     "base_uri": "https://localhost:8080/",
     "height": 34
    },
    "colab_type": "code",
    "executionInfo": {
     "elapsed": 42407,
     "status": "ok",
     "timestamp": 1597312586328,
     "user": {
      "displayName": "praveen bhargav",
      "photoUrl": "https://lh3.googleusercontent.com/a-/AOh14Gi3oCF7EPGPsOEzcwejqqKBKRsG-rJ504fyLO3p=s64",
      "userId": "07898829088085257669"
     },
     "user_tz": -330
    },
    "id": "LqE4OwzQcPQ-",
    "outputId": "96f572b6-e9ba-4a58-aab2-c0cc5874dc64"
   },
   "outputs": [
    {
     "data": {
      "text/plain": [
       "Index(['target', 'ids', 'date', 'flag', 'user', 'text'], dtype='object')"
      ]
     },
     "execution_count": 14,
     "metadata": {
      "tags": []
     },
     "output_type": "execute_result"
    }
   ],
   "source": [
    "twitter.columns"
   ]
  },
  {
   "cell_type": "code",
   "execution_count": 5,
   "metadata": {
    "colab": {
     "base_uri": "https://localhost:8080/",
     "height": 34
    },
    "colab_type": "code",
    "executionInfo": {
     "elapsed": 18629,
     "status": "ok",
     "timestamp": 1597405579672,
     "user": {
      "displayName": "praveen bhargav",
      "photoUrl": "https://lh3.googleusercontent.com/a-/AOh14Gi3oCF7EPGPsOEzcwejqqKBKRsG-rJ504fyLO3p=s64",
      "userId": "07898829088085257669"
     },
     "user_tz": -330
    },
    "id": "3NFol_dUcPaJ",
    "outputId": "b6370b93-3f0f-441f-a1a6-5298a7243a19"
   },
   "outputs": [
    {
     "data": {
      "text/plain": [
       "Index(['target', 'text'], dtype='object')"
      ]
     },
     "execution_count": 5,
     "metadata": {},
     "output_type": "execute_result"
    }
   ],
   "source": [
    "#since we donot need some columns, so we need to drop those unnecessary cols and proceed further process\n",
    "df=twitter.drop([\"ids\",\"date\",\"flag\",\"user\"],1)\n",
    "df.columns"
   ]
  },
  {
   "cell_type": "code",
   "execution_count": null,
   "metadata": {
    "colab": {},
    "colab_type": "code",
    "id": "2vKKr_hFcPW6"
   },
   "outputs": [],
   "source": [
    "user_text=df.text #lets divide the target and text columns "
   ]
  },
  {
   "cell_type": "markdown",
   "metadata": {
    "colab_type": "text",
    "id": "YpY02cWpiYnF"
   },
   "source": [
    "### For Reference of UNSUPERVISED ALGORITHMS FOR NLP please check out the given URL:https://medium.com/@Intellica.AI/vader-ibm-watson-or-textblob-which-is-better-for-unsupervised-sentiment-analysis-db4143a39445"
   ]
  },
  {
   "cell_type": "code",
   "execution_count": null,
   "metadata": {
    "colab": {
     "base_uri": "https://localhost:8080/",
     "height": 70
    },
    "colab_type": "code",
    "executionInfo": {
     "elapsed": 42328,
     "status": "ok",
     "timestamp": 1597312586332,
     "user": {
      "displayName": "praveen bhargav",
      "photoUrl": "https://lh3.googleusercontent.com/a-/AOh14Gi3oCF7EPGPsOEzcwejqqKBKRsG-rJ504fyLO3p=s64",
      "userId": "07898829088085257669"
     },
     "user_tz": -330
    },
    "id": "FhzzS4ryXlFN",
    "outputId": "11b38258-ecea-42ef-ea30-8d283a31a01e"
   },
   "outputs": [
    {
     "name": "stderr",
     "output_type": "stream",
     "text": [
      "/usr/local/lib/python3.6/dist-packages/ipykernel_launcher.py:6: DeprecationWarning: watson-developer-cloud moved to ibm-watson. To get updates, use the new package.\n",
      "  \n"
     ]
    }
   ],
   "source": [
    "from watson_developer_cloud import NaturalLanguageUnderstandingV1\n",
    "from watson_developer_cloud.natural_language_understanding_v1 import Features, EntitiesOptions, KeywordsOptions, SentimentOptions, CategoriesOptions\n",
    "natural_language_understanding = NaturalLanguageUnderstandingV1(                                         \n",
    "    version='2018-11-16',\n",
    "    iam_apikey= \"i-IldqzZM-bX1sZIKOh86ZMO6BuU-Cpc9di56sjVhIDi\", # Use your API key here\n",
    "    url= \"https://api.eu-gb.natural-language-understanding.watson.cloud.ibm.com/instances/45942d82-3fc8-44ef-8bb8-45ec67703e60\" # paste the url here\n",
    "    )\n",
    "def Sentiment_score(input_text): \n",
    "    # Input text can be sentence, paragraph or document\n",
    "    response = natural_language_understanding.analyze (\n",
    "    text = input_text,\n",
    "    features = Features(sentiment=SentimentOptions())).get_result()\n",
    "    # From the response extract score which is between -1 to 1\n",
    "    res = response.get('sentiment').get('document').get('score')\n",
    "    return res"
   ]
  },
  {
   "cell_type": "code",
   "execution_count": null,
   "metadata": {
    "colab": {},
    "colab_type": "code",
    "id": "n8RRgcxYdeI8"
   },
   "outputs": [],
   "source": [
    "target_column1=user_text[0:6].map(lambda x: Sentiment_score(x))"
   ]
  },
  {
   "cell_type": "code",
   "execution_count": null,
   "metadata": {
    "colab": {
     "base_uri": "https://localhost:8080/",
     "height": 134
    },
    "colab_type": "code",
    "executionInfo": {
     "elapsed": 42287,
     "status": "ok",
     "timestamp": 1597312586335,
     "user": {
      "displayName": "praveen bhargav",
      "photoUrl": "https://lh3.googleusercontent.com/a-/AOh14Gi3oCF7EPGPsOEzcwejqqKBKRsG-rJ504fyLO3p=s64",
      "userId": "07898829088085257669"
     },
     "user_tz": -330
    },
    "id": "xi6d_2_rgj5K",
    "outputId": "38554b15-2553-451a-a76d-7218661339a8"
   },
   "outputs": [
    {
     "data": {
      "text/plain": [
       "0   -0.399120\n",
       "1   -0.988229\n",
       "2   -0.663827\n",
       "3   -0.836451\n",
       "4   -0.942761\n",
       "5   -0.743426\n",
       "Name: text, dtype: float64"
      ]
     },
     "execution_count": 19,
     "metadata": {
      "tags": []
     },
     "output_type": "execute_result"
    }
   ],
   "source": [
    "target_column1 #Since IBM Watson is not an open source library, As IBM Watson is only applicable to process for 15000 character only) "
   ]
  },
  {
   "cell_type": "markdown",
   "metadata": {
    "colab_type": "text",
    "id": "mlunGTy9i8Ef"
   },
   "source": [
    "- To gauge the results, you will have to keep looking at the score that is returned as a result. If the score is greater than 0, then the sentiment is considered to be positive, else negative."
   ]
  },
  {
   "cell_type": "markdown",
   "metadata": {
    "colab_type": "text",
    "id": "BeuxWxx3husb"
   },
   "source": [
    "##### Lets go for \"TextBlob\" which is an unsupervised algorithm to find the target columns or polarities"
   ]
  },
  {
   "cell_type": "markdown",
   "metadata": {
    "colab_type": "text",
    "id": "Pl69k0RcjUH7"
   },
   "source": [
    "TextBlob is a Python-based open source library that can be used to perform sentiment analysis effectively"
   ]
  },
  {
   "cell_type": "code",
   "execution_count": null,
   "metadata": {
    "colab": {},
    "colab_type": "code",
    "id": "7kFX-wLlgJsU"
   },
   "outputs": [],
   "source": [
    "# !pip install textblob"
   ]
  },
  {
   "cell_type": "code",
   "execution_count": null,
   "metadata": {
    "colab": {},
    "colab_type": "code",
    "id": "V1xdlU0PgK8W"
   },
   "outputs": [],
   "source": [
    "from textblob import TextBlob\n",
    "# Get the polarity score using below function\n",
    "def get_textBlob_score(sent):\n",
    "    # This polarity score is between -1 to 1\n",
    "    polarity = TextBlob(sent).sentiment.polarity\n",
    "    return polarity"
   ]
  },
  {
   "cell_type": "code",
   "execution_count": null,
   "metadata": {
    "colab": {
     "base_uri": "https://localhost:8080/",
     "height": 50
    },
    "colab_type": "code",
    "executionInfo": {
     "elapsed": 747415,
     "status": "ok",
     "timestamp": 1597317200652,
     "user": {
      "displayName": "praveen bhargav",
      "photoUrl": "https://lh3.googleusercontent.com/a-/AOh14Gi3oCF7EPGPsOEzcwejqqKBKRsG-rJ504fyLO3p=s64",
      "userId": "07898829088085257669"
     },
     "user_tz": -330
    },
    "id": "brQIWvG0jDNP",
    "outputId": "692d6277-e200-495a-f068-f615c3f13f78"
   },
   "outputs": [
    {
     "data": {
      "text/plain": [
       "array([0.21666667, 0.        , 0.5       , ..., 0.2       , 1.        ,\n",
       "       0.8       ])"
      ]
     },
     "execution_count": 57,
     "metadata": {
      "tags": []
     },
     "output_type": "execute_result"
    }
   ],
   "source": [
    "target_column2=user_text.map(lambda x: get_textBlob_score(x))\n",
    "target_column2=np.array(target_column2)\n"
   ]
  },
  {
   "cell_type": "code",
   "execution_count": null,
   "metadata": {
    "colab": {
     "base_uri": "https://localhost:8080/",
     "height": 34
    },
    "colab_type": "code",
    "executionInfo": {
     "elapsed": 2301,
     "status": "ok",
     "timestamp": 1597317516692,
     "user": {
      "displayName": "praveen bhargav",
      "photoUrl": "https://lh3.googleusercontent.com/a-/AOh14Gi3oCF7EPGPsOEzcwejqqKBKRsG-rJ504fyLO3p=s64",
      "userId": "07898829088085257669"
     },
     "user_tz": -330
    },
    "id": "yhC58QlYiEzd",
    "outputId": "742c58a3-dce4-4308-cd8d-0735dba5b47c"
   },
   "outputs": [
    {
     "data": {
      "text/plain": [
       "array([1, 1, 1, ..., 1, 1, 1])"
      ]
     },
     "execution_count": 63,
     "metadata": {
      "tags": []
     },
     "output_type": "execute_result"
    }
   ],
   "source": [
    "cond=[target_column2>=0,target_column2<0]\n",
    "choice=[1,0]\n",
    "target_column2=np.select(cond,choice)\n",
    "target_column2"
   ]
  },
  {
   "cell_type": "code",
   "execution_count": null,
   "metadata": {
    "colab": {},
    "colab_type": "code",
    "id": "6fCgLHBBQqZq"
   },
   "outputs": [],
   "source": [
    "from sklearn.metrics import confusion_matrix\n",
    "from sklearn.metrics import accuracy_score\n",
    "from mlxtend.evaluate import confusion_matrix"
   ]
  },
  {
   "cell_type": "code",
   "execution_count": null,
   "metadata": {
    "colab": {
     "base_uri": "https://localhost:8080/",
     "height": 34
    },
    "colab_type": "code",
    "executionInfo": {
     "elapsed": 1217,
     "status": "ok",
     "timestamp": 1597317587541,
     "user": {
      "displayName": "praveen bhargav",
      "photoUrl": "https://lh3.googleusercontent.com/a-/AOh14Gi3oCF7EPGPsOEzcwejqqKBKRsG-rJ504fyLO3p=s64",
      "userId": "07898829088085257669"
     },
     "user_tz": -330
    },
    "id": "zC674KSze8Ud",
    "outputId": "c033ec3f-5355-4d64-bcf2-8390b79e51fb"
   },
   "outputs": [
    {
     "data": {
      "text/plain": [
       "0.6089525"
      ]
     },
     "execution_count": 64,
     "metadata": {
      "tags": []
     },
     "output_type": "execute_result"
    }
   ],
   "source": [
    "accuracy_score(twitter[\"target\"],target_column2)"
   ]
  },
  {
   "cell_type": "code",
   "execution_count": null,
   "metadata": {
    "colab": {},
    "colab_type": "code",
    "id": "XLZIDaAkkBJw"
   },
   "outputs": [],
   "source": [
    "#plotting confusion matrix\n",
    "def plot_confusion_matrix(cm, classes,\n",
    "                          normalize=False,\n",
    "                          title='Confusion matrix',\n",
    "                          cmap=plt.cm.YlOrRd):\n",
    "    \"\"\"\n",
    "    See full source and example: \n",
    "    http://scikit-learn.org/stable/auto_examples/model_selection/plot_confusion_matrix.html\n",
    "    \n",
    "    This function prints and plots the confusion matrix.\n",
    "    Normalization can be applied by setting `normalize=True`.\n",
    "    \"\"\"\n",
    "    plt.imshow(cm, interpolation='nearest', cmap=cmap)\n",
    "    plt.title(title)\n",
    "    plt.colorbar()\n",
    "    tick_marks = np.arange(len(classes))\n",
    "    plt.xticks(tick_marks, classes, rotation=0)\n",
    "    plt.yticks(tick_marks, classes)\n",
    "\n",
    "    if normalize:\n",
    "        cm = cm.astype('float') / cm.sum(axis=1)[:, np.newaxis]\n",
    "        print(\"Normalized confusion matrix\")\n",
    "    else:\n",
    "        print('Confusion matrix, without normalization')\n",
    "\n",
    "    thresh = cm.max() / 2.\n",
    "    for i, j in itertools.product(range(cm.shape[0]), range(cm.shape[1])):\n",
    "        plt.text(j, i, cm[i, j],\n",
    "                 horizontalalignment=\"right\",\n",
    "                 color=\"White\" if cm[i, j] > thresh else \"black\")\n",
    "\n",
    "    plt.tight_layout()\n",
    "    plt.ylabel('True label')\n",
    "    plt.xlabel('Predicted label')"
   ]
  },
  {
   "cell_type": "code",
   "execution_count": null,
   "metadata": {
    "colab": {
     "base_uri": "https://localhost:8080/",
     "height": 328
    },
    "colab_type": "code",
    "executionInfo": {
     "elapsed": 1817,
     "status": "ok",
     "timestamp": 1597317972554,
     "user": {
      "displayName": "praveen bhargav",
      "photoUrl": "https://lh3.googleusercontent.com/a-/AOh14Gi3oCF7EPGPsOEzcwejqqKBKRsG-rJ504fyLO3p=s64",
      "userId": "07898829088085257669"
     },
     "user_tz": -330
    },
    "id": "eHQtacKPjOFA",
    "outputId": "0a8b9601-04e9-46b5-eb18-867ebae5a138"
   },
   "outputs": [
    {
     "name": "stdout",
     "output_type": "stream",
     "text": [
      "Confusion matrix, without normalization\n"
     ]
    },
    {
     "data": {
      "image/png": "[encoded data removed]",
      "text/plain": [
       "<Figure size 432x288 with 2 Axes>"
      ]
     },
     "metadata": {
      "needs_background": "light",
      "tags": []
     },
     "output_type": "display_data"
    }
   ],
   "source": [
    "import itertools\n",
    "cm = confusion_matrix(twitter[\"target\"],target_column2)\n",
    "plot_confusion_matrix(cm, classes=['Negative', 'Positive'])\n",
    "plt.savefig(\"confusion_matrix.jpg\")"
   ]
  },
  {
   "cell_type": "markdown",
   "metadata": {
    "colab_type": "text",
    "id": "OT8TyLA0jXRR"
   },
   "source": [
    "- TextBlob’s sentiment function returns tuple, polarity, and subjectivity and the polarity score floats within the range of -1.0 & 1.0 where anything greater than 0 is positive and below 0 is negative."
   ]
  },
  {
   "cell_type": "markdown",
   "metadata": {
    "colab_type": "text",
    "id": "vIAv02sJkIS2"
   },
   "source": [
    "NLTK VADER"
   ]
  },
  {
   "cell_type": "markdown",
   "metadata": {
    "colab_type": "text",
    "id": "Xj4tU5gAkIQD"
   },
   "source": [
    "VADER or Valence Aware Dictionary and Sentiment Reasoner is a rule/lexicon-based, open-source sentiment analyzer pre-built library, protected under the MIT license"
   ]
  },
  {
   "cell_type": "code",
   "execution_count": null,
   "metadata": {
    "colab": {
     "base_uri": "https://localhost:8080/",
     "height": 50
    },
    "colab_type": "code",
    "executionInfo": {
     "elapsed": 742885,
     "status": "ok",
     "timestamp": 1597313287035,
     "user": {
      "displayName": "praveen bhargav",
      "photoUrl": "https://lh3.googleusercontent.com/a-/AOh14Gi3oCF7EPGPsOEzcwejqqKBKRsG-rJ504fyLO3p=s64",
      "userId": "07898829088085257669"
     },
     "user_tz": -330
    },
    "id": "G3kQogLAkGrM",
    "outputId": "e2a1f8e6-8f31-468d-8875-c401deb4ff14"
   },
   "outputs": [
    {
     "name": "stdout",
     "output_type": "stream",
     "text": [
      "[nltk_data] Downloading package vader_lexicon to /root/nltk_data...\n"
     ]
    },
    {
     "data": {
      "text/plain": [
       "True"
      ]
     },
     "execution_count": 24,
     "metadata": {
      "tags": []
     },
     "output_type": "execute_result"
    }
   ],
   "source": [
    "import nltk\n",
    "nltk.download('vader_lexicon')"
   ]
  },
  {
   "cell_type": "code",
   "execution_count": null,
   "metadata": {
    "colab": {},
    "colab_type": "code",
    "id": "dKUskUVijWaP"
   },
   "outputs": [],
   "source": [
    "from nltk.sentiment.vader import SentimentIntensityAnalyzer\n",
    "sid = SentimentIntensityAnalyzer()\n",
    "\n",
    "def get_vader_score(sent):\n",
    "  l=[]\n",
    "    # Polarity score returns dictionary\n",
    "  ss = sid.polarity_scores(sent)\n",
    "  # print(ss)\n",
    "  value=sorted(ss,key= ss.get, reverse=True)[0]\n",
    "  # print(value)\n",
    "  # print('\\n')\n",
    "  # l.append(value)\n",
    "    \n",
    "  return value\n",
    "\n",
    "    # for k in sorted(ss):\n",
    "    #     print('{0}: {1}, '.format(k, ss[k]), end='')\n",
    "    #     print()"
   ]
  },
  {
   "cell_type": "code",
   "execution_count": null,
   "metadata": {
    "colab": {
     "base_uri": "https://localhost:8080/",
     "height": 218
    },
    "colab_type": "code",
    "executionInfo": {
     "elapsed": 982536,
     "status": "ok",
     "timestamp": 1597313526712,
     "user": {
      "displayName": "praveen bhargav",
      "photoUrl": "https://lh3.googleusercontent.com/a-/AOh14Gi3oCF7EPGPsOEzcwejqqKBKRsG-rJ504fyLO3p=s64",
      "userId": "07898829088085257669"
     },
     "user_tz": -330
    },
    "id": "rHG3662-kreo",
    "outputId": "c5ef878f-39ea-4f26-8f9e-29a76884ea6c"
   },
   "outputs": [
    {
     "data": {
      "text/plain": [
       "0               neu\n",
       "1               neu\n",
       "2               neu\n",
       "3               neu\n",
       "4               neu\n",
       "             ...   \n",
       "1599995    compound\n",
       "1599996         neu\n",
       "1599997         neu\n",
       "1599998         neu\n",
       "1599999    compound\n",
       "Name: text, Length: 1600000, dtype: object"
      ]
     },
     "execution_count": 26,
     "metadata": {
      "tags": []
     },
     "output_type": "execute_result"
    }
   ],
   "source": [
    "target_column3=user_text.map(lambda x: get_vader_score(x))\n",
    "target_column3"
   ]
  },
  {
   "cell_type": "code",
   "execution_count": null,
   "metadata": {
    "colab": {
     "base_uri": "https://localhost:8080/",
     "height": 195
    },
    "colab_type": "code",
    "executionInfo": {
     "elapsed": 1304,
     "status": "ok",
     "timestamp": 1597314286430,
     "user": {
      "displayName": "praveen bhargav",
      "photoUrl": "https://lh3.googleusercontent.com/a-/AOh14Gi3oCF7EPGPsOEzcwejqqKBKRsG-rJ504fyLO3p=s64",
      "userId": "07898829088085257669"
     },
     "user_tz": -330
    },
    "id": "GI1Up3CVWS6U",
    "outputId": "eef33c04-5cdb-4fb3-b9e1-0d9f698f1376"
   },
   "outputs": [
    {
     "data": {
      "text/html": [
       "<div>\n",
       "<style scoped>\n",
       "    .dataframe tbody tr th:only-of-type {\n",
       "        vertical-align: middle;\n",
       "    }\n",
       "\n",
       "    .dataframe tbody tr th {\n",
       "        vertical-align: top;\n",
       "    }\n",
       "\n",
       "    .dataframe thead th {\n",
       "        text-align: right;\n",
       "    }\n",
       "</style>\n",
       "<table border=\"1\" class=\"dataframe\">\n",
       "  <thead>\n",
       "    <tr style=\"text-align: right;\">\n",
       "      <th></th>\n",
       "      <th>target_column3</th>\n",
       "    </tr>\n",
       "  </thead>\n",
       "  <tbody>\n",
       "    <tr>\n",
       "      <th>0</th>\n",
       "      <td>neu</td>\n",
       "    </tr>\n",
       "    <tr>\n",
       "      <th>1</th>\n",
       "      <td>neu</td>\n",
       "    </tr>\n",
       "    <tr>\n",
       "      <th>2</th>\n",
       "      <td>neu</td>\n",
       "    </tr>\n",
       "    <tr>\n",
       "      <th>3</th>\n",
       "      <td>neu</td>\n",
       "    </tr>\n",
       "    <tr>\n",
       "      <th>4</th>\n",
       "      <td>neu</td>\n",
       "    </tr>\n",
       "  </tbody>\n",
       "</table>\n",
       "</div>"
      ],
      "text/plain": [
       "  target_column3\n",
       "0            neu\n",
       "1            neu\n",
       "2            neu\n",
       "3            neu\n",
       "4            neu"
      ]
     },
     "execution_count": 43,
     "metadata": {
      "tags": []
     },
     "output_type": "execute_result"
    }
   ],
   "source": [
    "t=pd.DataFrame(data=list(target_column3),columns=[\"target_column3\"])\n",
    "t.head()"
   ]
  },
  {
   "cell_type": "code",
   "execution_count": null,
   "metadata": {
    "colab": {
     "base_uri": "https://localhost:8080/",
     "height": 34
    },
    "colab_type": "code",
    "executionInfo": {
     "elapsed": 3327,
     "status": "ok",
     "timestamp": 1597316267067,
     "user": {
      "displayName": "praveen bhargav",
      "photoUrl": "https://lh3.googleusercontent.com/a-/AOh14Gi3oCF7EPGPsOEzcwejqqKBKRsG-rJ504fyLO3p=s64",
      "userId": "07898829088085257669"
     },
     "user_tz": -330
    },
    "id": "P3l_426BvGxi",
    "outputId": "4e4311be-d880-49ab-9325-1493145b2993"
   },
   "outputs": [
    {
     "data": {
      "text/plain": [
       "array([0, 0, 0, ..., 0, 0, 3])"
      ]
     },
     "execution_count": 55,
     "metadata": {
      "tags": []
     },
     "output_type": "execute_result"
    }
   ],
   "source": [
    "cond=[t[\"target_column3\"]==\"compound\",t[\"target_column3\"]==\"neg\",t[\"target_column3\"]==\"neu\",t[\"target_column3\"]==\"pos\"]\n",
    "ans=[3,2,0,1]\n",
    "target_column3=np.select(cond,ans)\n",
    "target_column3"
   ]
  },
  {
   "cell_type": "code",
   "execution_count": null,
   "metadata": {
    "colab": {
     "base_uri": "https://localhost:8080/",
     "height": 101
    },
    "colab_type": "code",
    "executionInfo": {
     "elapsed": 1931,
     "status": "ok",
     "timestamp": 1597316407717,
     "user": {
      "displayName": "praveen bhargav",
      "photoUrl": "https://lh3.googleusercontent.com/a-/AOh14Gi3oCF7EPGPsOEzcwejqqKBKRsG-rJ504fyLO3p=s64",
      "userId": "07898829088085257669"
     },
     "user_tz": -330
    },
    "id": "vOspEz5yeDLx",
    "outputId": "172a0da9-c3a0-4000-ebb5-3b6666cc0417"
   },
   "outputs": [
    {
     "data": {
      "text/plain": [
       "neu         1247530\n",
       "compound     270277\n",
       "neg           47105\n",
       "pos           35088\n",
       "Name: target_column3, dtype: int64"
      ]
     },
     "execution_count": 56,
     "metadata": {
      "tags": []
     },
     "output_type": "execute_result"
    }
   ],
   "source": [
    "t.target_column3.value_counts()"
   ]
  },
  {
   "cell_type": "markdown",
   "metadata": {
    "colab_type": "text",
    "id": "g0Y_Q3Pv6ItU"
   },
   "source": []
  },
  {
   "cell_type": "markdown",
   "metadata": {
    "colab_type": "text",
    "id": "if6eutqynNsR"
   },
   "source": [
    "#### Data Preprocessing"
   ]
  },
  {
   "cell_type": "code",
   "execution_count": 6,
   "metadata": {
    "colab": {
     "base_uri": "https://localhost:8080/",
     "height": 218
    },
    "colab_type": "code",
    "executionInfo": {
     "elapsed": 11962,
     "status": "ok",
     "timestamp": 1597405579674,
     "user": {
      "displayName": "praveen bhargav",
      "photoUrl": "https://lh3.googleusercontent.com/a-/AOh14Gi3oCF7EPGPsOEzcwejqqKBKRsG-rJ504fyLO3p=s64",
      "userId": "07898829088085257669"
     },
     "user_tz": -330
    },
    "id": "TiZ7eeTBl7DC",
    "outputId": "016cc62f-36b2-4f94-cd86-372e37dbb469"
   },
   "outputs": [
    {
     "data": {
      "text/plain": [
       "0          @switchfoot http://twitpic.com/2y1zl - Awww, t...\n",
       "1          is upset that he can't update his Facebook by ...\n",
       "2          @Kenichan I dived many times for the ball. Man...\n",
       "3            my whole body feels itchy and like its on fire \n",
       "4          @nationwideclass no, it's not behaving at all....\n",
       "                                 ...                        \n",
       "1599995    Just woke up. Having no school is the best fee...\n",
       "1599996    TheWDB.com - Very cool to hear old Walt interv...\n",
       "1599997    Are you ready for your MoJo Makeover? Ask me f...\n",
       "1599998    Happy 38th Birthday to my boo of alll time!!! ...\n",
       "1599999    happy #charitytuesday @theNSPCC @SparksCharity...\n",
       "Name: text, Length: 1600000, dtype: object"
      ]
     },
     "execution_count": 6,
     "metadata": {},
     "output_type": "execute_result"
    }
   ],
   "source": [
    "df.text"
   ]
  },
  {
   "cell_type": "code",
   "execution_count": 7,
   "metadata": {
    "colab": {
     "base_uri": "https://localhost:8080/",
     "height": 50
    },
    "colab_type": "code",
    "executionInfo": {
     "elapsed": 11938,
     "status": "ok",
     "timestamp": 1597405579676,
     "user": {
      "displayName": "praveen bhargav",
      "photoUrl": "https://lh3.googleusercontent.com/a-/AOh14Gi3oCF7EPGPsOEzcwejqqKBKRsG-rJ504fyLO3p=s64",
      "userId": "07898829088085257669"
     },
     "user_tz": -330
    },
    "id": "GgXz0nZGFSph",
    "outputId": "b27cd554-2b14-4536-bdc7-d8375131a027"
   },
   "outputs": [
    {
     "name": "stdout",
     "output_type": "stream",
     "text": [
      "[nltk_data] Downloading package stopwords to /root/nltk_data...\n",
      "[nltk_data]   Unzipping corpora/stopwords.zip.\n"
     ]
    }
   ],
   "source": [
    "#importing libraries\n",
    "from  nltk.stem import SnowballStemmer\n",
    "import string\n",
    "nltk.download('stopwords')\n",
    "stemmer = SnowballStemmer(\"english\")"
   ]
  },
  {
   "cell_type": "code",
   "execution_count": 44,
   "metadata": {
    "colab": {},
    "colab_type": "code",
    "executionInfo": {
     "elapsed": 1216,
     "status": "ok",
     "timestamp": 1597411215658,
     "user": {
      "displayName": "praveen bhargav",
      "photoUrl": "https://lh3.googleusercontent.com/a-/AOh14Gi3oCF7EPGPsOEzcwejqqKBKRsG-rJ504fyLO3p=s64",
      "userId": "07898829088085257669"
     },
     "user_tz": -330
    },
    "id": "kNkoJbhnnZag"
   },
   "outputs": [],
   "source": [
    "### CLEANING THE CORPUS\n",
    "\n",
    "def clean_text(text):\n",
    "    '''Make text lowercase, remove text in square brackets,remove links,remove punctuation\n",
    "    and remove words containing numbers.'''\n",
    " \n",
    "    text = str(text).lower()\n",
    "    text = re.sub('\\[.*?\\]', '', text)\n",
    "    text = re.sub('https?://\\S+|www\\.\\S+', '', text)\n",
    "    text = re.sub('<.*?>+', '', text)\n",
    "    text = re.sub('[%s]' % re.escape(string.punctuation), '', text)\n",
    "    text = re.sub('\\n', '', text)\n",
    "    text = re.sub('\\w*\\d\\w*', '', text)\n",
    "    text = re.sub(r'\\$\\w*', '', text)\n",
    "    # remove old style retweet text \"RT\"\n",
    "    text = re.sub(r'^RT[\\s]+', '', text)\n",
    "    # remove hyperlinks\n",
    "    text = re.sub(r'https?:\\/\\/.*[\\r\\n]*', '', text)\n",
    "    # remove hashtags\n",
    "    # only removing the hash # sign from the word\n",
    "    text = re.sub(r'[#@]+', '', text)\n",
    "\n",
    "\n",
    "    tokenizer = TweetTokenizer(preserve_case=False, strip_handles=True,\n",
    "                               reduce_len=True)\n",
    "    tweet_tokens = tokenizer.tokenize(text)\n",
    "\n",
    "    tweets_clean = []\n",
    "    \n",
    "    text = [stemmer.stem(word) for word in tweet_tokens if word not in set(stopwords.words('english'))]\n",
    "    text = ' '.join(text)\n",
    "    # tr(tweets_clean.append(text))\n",
    "    \n",
    "\n",
    "    \n",
    "    return text"
   ]
  },
  {
   "cell_type": "code",
   "execution_count": 7,
   "metadata": {
    "colab": {
     "base_uri": "https://localhost:8080/",
     "height": 195
    },
    "colab_type": "code",
    "executionInfo": {
     "elapsed": 1298,
     "status": "ok",
     "timestamp": 1597410702027,
     "user": {
      "displayName": "praveen bhargav",
      "photoUrl": "https://lh3.googleusercontent.com/a-/AOh14Gi3oCF7EPGPsOEzcwejqqKBKRsG-rJ504fyLO3p=s64",
      "userId": "07898829088085257669"
     },
     "user_tz": -330
    },
    "id": "RQ6ynyoZDpLy",
    "outputId": "b3708a93-5a11-47dd-ffb2-9522b46343ca"
   },
   "outputs": [
    {
     "data": {
      "text/html": [
       "<div>\n",
       "<style scoped>\n",
       "    .dataframe tbody tr th:only-of-type {\n",
       "        vertical-align: middle;\n",
       "    }\n",
       "\n",
       "    .dataframe tbody tr th {\n",
       "        vertical-align: top;\n",
       "    }\n",
       "\n",
       "    .dataframe thead th {\n",
       "        text-align: right;\n",
       "    }\n",
       "</style>\n",
       "<table border=\"1\" class=\"dataframe\">\n",
       "  <thead>\n",
       "    <tr style=\"text-align: right;\">\n",
       "      <th></th>\n",
       "      <th>target</th>\n",
       "      <th>text</th>\n",
       "    </tr>\n",
       "  </thead>\n",
       "  <tbody>\n",
       "    <tr>\n",
       "      <th>0</th>\n",
       "      <td>0</td>\n",
       "      <td>@switchfoot http://twitpic.com/2y1zl - Awww, t...</td>\n",
       "    </tr>\n",
       "    <tr>\n",
       "      <th>1</th>\n",
       "      <td>0</td>\n",
       "      <td>is upset that he can't update his Facebook by ...</td>\n",
       "    </tr>\n",
       "    <tr>\n",
       "      <th>2</th>\n",
       "      <td>0</td>\n",
       "      <td>@Kenichan I dived many times for the ball. Man...</td>\n",
       "    </tr>\n",
       "    <tr>\n",
       "      <th>3</th>\n",
       "      <td>0</td>\n",
       "      <td>my whole body feels itchy and like its on fire</td>\n",
       "    </tr>\n",
       "    <tr>\n",
       "      <th>4</th>\n",
       "      <td>0</td>\n",
       "      <td>@nationwideclass no, it's not behaving at all....</td>\n",
       "    </tr>\n",
       "  </tbody>\n",
       "</table>\n",
       "</div>"
      ],
      "text/plain": [
       "   target                                               text\n",
       "0       0  @switchfoot http://twitpic.com/2y1zl - Awww, t...\n",
       "1       0  is upset that he can't update his Facebook by ...\n",
       "2       0  @Kenichan I dived many times for the ball. Man...\n",
       "3       0    my whole body feels itchy and like its on fire \n",
       "4       0  @nationwideclass no, it's not behaving at all...."
      ]
     },
     "execution_count": 7,
     "metadata": {},
     "output_type": "execute_result"
    }
   ],
   "source": [
    "negative=df[df.target==0][0:15]\n",
    "positive=df[df.target==1][0:15]\n",
    "df1=pd.concat([negative,positive],axis=0,join=\"outer\").iloc[:,[0,1]]\n",
    "\n",
    "df1.head()"
   ]
  },
  {
   "cell_type": "code",
   "execution_count": 8,
   "metadata": {},
   "outputs": [],
   "source": [
    "df1.reset_index(inplace=True,drop=True)"
   ]
  },
  {
   "cell_type": "code",
   "execution_count": 9,
   "metadata": {},
   "outputs": [
    {
     "data": {
      "text/html": [
       "<div>\n",
       "<style scoped>\n",
       "    .dataframe tbody tr th:only-of-type {\n",
       "        vertical-align: middle;\n",
       "    }\n",
       "\n",
       "    .dataframe tbody tr th {\n",
       "        vertical-align: top;\n",
       "    }\n",
       "\n",
       "    .dataframe thead th {\n",
       "        text-align: right;\n",
       "    }\n",
       "</style>\n",
       "<table border=\"1\" class=\"dataframe\">\n",
       "  <thead>\n",
       "    <tr style=\"text-align: right;\">\n",
       "      <th></th>\n",
       "      <th>target</th>\n",
       "      <th>text</th>\n",
       "    </tr>\n",
       "  </thead>\n",
       "  <tbody>\n",
       "    <tr>\n",
       "      <th>0</th>\n",
       "      <td>0</td>\n",
       "      <td>@switchfoot http://twitpic.com/2y1zl - Awww, t...</td>\n",
       "    </tr>\n",
       "    <tr>\n",
       "      <th>1</th>\n",
       "      <td>0</td>\n",
       "      <td>is upset that he can't update his Facebook by ...</td>\n",
       "    </tr>\n",
       "    <tr>\n",
       "      <th>2</th>\n",
       "      <td>0</td>\n",
       "      <td>@Kenichan I dived many times for the ball. Man...</td>\n",
       "    </tr>\n",
       "    <tr>\n",
       "      <th>3</th>\n",
       "      <td>0</td>\n",
       "      <td>my whole body feels itchy and like its on fire</td>\n",
       "    </tr>\n",
       "    <tr>\n",
       "      <th>4</th>\n",
       "      <td>0</td>\n",
       "      <td>@nationwideclass no, it's not behaving at all....</td>\n",
       "    </tr>\n",
       "  </tbody>\n",
       "</table>\n",
       "</div>"
      ],
      "text/plain": [
       "   target                                               text\n",
       "0       0  @switchfoot http://twitpic.com/2y1zl - Awww, t...\n",
       "1       0  is upset that he can't update his Facebook by ...\n",
       "2       0  @Kenichan I dived many times for the ball. Man...\n",
       "3       0    my whole body feels itchy and like its on fire \n",
       "4       0  @nationwideclass no, it's not behaving at all...."
      ]
     },
     "execution_count": 9,
     "metadata": {},
     "output_type": "execute_result"
    }
   ],
   "source": [
    "df1.head()"
   ]
  },
  {
   "cell_type": "code",
   "execution_count": 10,
   "metadata": {
    "colab": {
     "base_uri": "https://localhost:8080/",
     "height": 34
    },
    "colab_type": "code",
    "executionInfo": {
     "elapsed": 1697,
     "status": "ok",
     "timestamp": 1597410708556,
     "user": {
      "displayName": "praveen bhargav",
      "photoUrl": "https://lh3.googleusercontent.com/a-/AOh14Gi3oCF7EPGPsOEzcwejqqKBKRsG-rJ504fyLO3p=s64",
      "userId": "07898829088085257669"
     },
     "user_tz": -330
    },
    "id": "PAZeVezcEhoN",
    "outputId": "540c860c-cfa2-47f0-d5f0-5514369c2bc4"
   },
   "outputs": [
    {
     "data": {
      "text/plain": [
       "(30, 2)"
      ]
     },
     "execution_count": 10,
     "metadata": {},
     "output_type": "execute_result"
    }
   ],
   "source": [
    "df1.shape\n"
   ]
  },
  {
   "cell_type": "code",
   "execution_count": 16,
   "metadata": {
    "colab": {
     "base_uri": "https://localhost:8080/",
     "height": 67
    },
    "colab_type": "code",
    "executionInfo": {
     "elapsed": 1202,
     "status": "ok",
     "timestamp": 1597410721595,
     "user": {
      "displayName": "praveen bhargav",
      "photoUrl": "https://lh3.googleusercontent.com/a-/AOh14Gi3oCF7EPGPsOEzcwejqqKBKRsG-rJ504fyLO3p=s64",
      "userId": "07898829088085257669"
     },
     "user_tz": -330
    },
    "id": "zkxaa6TLFn7L",
    "outputId": "6082ea1a-87cb-4cb0-e16b-1314d2e5bce2"
   },
   "outputs": [
    {
     "data": {
      "text/plain": [
       "target    False\n",
       "text      False\n",
       "dtype: bool"
      ]
     },
     "execution_count": 16,
     "metadata": {},
     "output_type": "execute_result"
    }
   ],
   "source": [
    "df1.isnull().any()"
   ]
  },
  {
   "cell_type": "code",
   "execution_count": 50,
   "metadata": {
    "colab": {},
    "colab_type": "code",
    "executionInfo": {
     "elapsed": 26307,
     "status": "ok",
     "timestamp": 1597411250638,
     "user": {
      "displayName": "praveen bhargav",
      "photoUrl": "https://lh3.googleusercontent.com/a-/AOh14Gi3oCF7EPGPsOEzcwejqqKBKRsG-rJ504fyLO3p=s64",
      "userId": "07898829088085257669"
     },
     "user_tz": -330
    },
    "id": "qX1eX_4vILYG"
   },
   "outputs": [],
   "source": [
    "df1[\"clean_text\"]=df1[\"text\"].map(lambda x:cleantext(x))"
   ]
  },
  {
   "cell_type": "code",
   "execution_count": 51,
   "metadata": {
    "colab": {
     "base_uri": "https://localhost:8080/",
     "height": 195
    },
    "colab_type": "code",
    "executionInfo": {
     "elapsed": 4565,
     "status": "ok",
     "timestamp": 1597411257089,
     "user": {
      "displayName": "praveen bhargav",
      "photoUrl": "https://lh3.googleusercontent.com/a-/AOh14Gi3oCF7EPGPsOEzcwejqqKBKRsG-rJ504fyLO3p=s64",
      "userId": "07898829088085257669"
     },
     "user_tz": -330
    },
    "id": "00TMBZRIHqHe",
    "outputId": "9a9402b6-6dbf-4d4d-a6ec-97c59cbc4bb7"
   },
   "outputs": [
    {
     "data": {
      "text/html": [
       "<div>\n",
       "<style scoped>\n",
       "    .dataframe tbody tr th:only-of-type {\n",
       "        vertical-align: middle;\n",
       "    }\n",
       "\n",
       "    .dataframe tbody tr th {\n",
       "        vertical-align: top;\n",
       "    }\n",
       "\n",
       "    .dataframe thead th {\n",
       "        text-align: right;\n",
       "    }\n",
       "</style>\n",
       "<table border=\"1\" class=\"dataframe\">\n",
       "  <thead>\n",
       "    <tr style=\"text-align: right;\">\n",
       "      <th></th>\n",
       "      <th>target</th>\n",
       "      <th>text</th>\n",
       "      <th>clean_text</th>\n",
       "    </tr>\n",
       "  </thead>\n",
       "  <tbody>\n",
       "    <tr>\n",
       "      <th>0</th>\n",
       "      <td>0</td>\n",
       "      <td>@switchfoot http://twitpic.com/2y1zl - Awww, t...</td>\n",
       "      <td>switchfoot awww that bummer shoulda got david ...</td>\n",
       "    </tr>\n",
       "    <tr>\n",
       "      <th>1</th>\n",
       "      <td>0</td>\n",
       "      <td>is upset that he can't update his Facebook by ...</td>\n",
       "      <td>upset cant updat facebook text might cri resul...</td>\n",
       "    </tr>\n",
       "    <tr>\n",
       "      <th>2</th>\n",
       "      <td>0</td>\n",
       "      <td>@Kenichan I dived many times for the ball. Man...</td>\n",
       "      <td>kenichan dive mani time ball manag save rest g...</td>\n",
       "    </tr>\n",
       "    <tr>\n",
       "      <th>3</th>\n",
       "      <td>0</td>\n",
       "      <td>my whole body feels itchy and like its on fire</td>\n",
       "      <td>whole bodi feel itchi like fire</td>\n",
       "    </tr>\n",
       "    <tr>\n",
       "      <th>4</th>\n",
       "      <td>0</td>\n",
       "      <td>@nationwideclass no, it's not behaving at all....</td>\n",
       "      <td>nationwideclass behav im mad cant see</td>\n",
       "    </tr>\n",
       "  </tbody>\n",
       "</table>\n",
       "</div>"
      ],
      "text/plain": [
       "   target                                               text  \\\n",
       "0       0  @switchfoot http://twitpic.com/2y1zl - Awww, t...   \n",
       "1       0  is upset that he can't update his Facebook by ...   \n",
       "2       0  @Kenichan I dived many times for the ball. Man...   \n",
       "3       0    my whole body feels itchy and like its on fire    \n",
       "4       0  @nationwideclass no, it's not behaving at all....   \n",
       "\n",
       "                                          clean_text  \n",
       "0  switchfoot awww that bummer shoulda got david ...  \n",
       "1  upset cant updat facebook text might cri resul...  \n",
       "2  kenichan dive mani time ball manag save rest g...  \n",
       "3                    whole bodi feel itchi like fire  \n",
       "4              nationwideclass behav im mad cant see  "
      ]
     },
     "execution_count": 51,
     "metadata": {},
     "output_type": "execute_result"
    }
   ],
   "source": [
    "df1.head()"
   ]
  },
  {
   "cell_type": "code",
   "execution_count": 48,
   "metadata": {
    "colab": {},
    "colab_type": "code",
    "executionInfo": {
     "elapsed": 1358,
     "status": "ok",
     "timestamp": 1597411293644,
     "user": {
      "displayName": "praveen bhargav",
      "photoUrl": "https://lh3.googleusercontent.com/a-/AOh14Gi3oCF7EPGPsOEzcwejqqKBKRsG-rJ504fyLO3p=s64",
      "userId": "07898829088085257669"
     },
     "user_tz": -330
    },
    "id": "6fiv1MVDCVNQ"
   },
   "outputs": [],
   "source": [
    "df1.to_csv(\"twitter.csv\")"
   ]
  },
  {
   "cell_type": "code",
   "execution_count": 10,
   "metadata": {},
   "outputs": [
    {
     "name": "stderr",
     "output_type": "stream",
     "text": [
      "[nltk_data] Downloading package stopwords to C:\\Users\\Praveen\n",
      "[nltk_data]     Bhargav\\AppData\\Roaming\\nltk_data...\n",
      "[nltk_data]   Package stopwords is already up-to-date!\n"
     ]
    }
   ],
   "source": [
    "from utils.data_preprocess import cleantext #mylibrary"
   ]
  },
  {
   "cell_type": "code",
   "execution_count": 1,
   "metadata": {},
   "outputs": [
    {
     "name": "stderr",
     "output_type": "stream",
     "text": [
      "[nltk_data] Downloading package stopwords to C:\\Users\\Praveen\n",
      "[nltk_data]     Bhargav\\AppData\\Roaming\\nltk_data...\n",
      "[nltk_data]   Package stopwords is already up-to-date!\n"
     ]
    }
   ],
   "source": [
    "\n",
    "import numpy as np\n",
    "import pandas as pd\n",
    "import warnings\n",
    "warnings.filterwarnings('ignore')\n",
    "import re\n",
    "import nltk\n",
    "nltk.download('stopwords')\n",
    "from nltk.corpus import stopwords\n",
    "from nltk.tokenize import TweetTokenizer\n",
    "from nltk.stem import PorterStemmer\n",
    "from nltk.stem import WordNetLemmatizer\n",
    "from  nltk.stem import SnowballStemmer\n",
    "import string\n",
    "\n",
    "\n",
    "\n",
    "\n",
    "\n",
    "### CLEANING THE CORPUS\n",
    "\n",
    "def cleantext(data,column):\n",
    "    '''Make text lowercase, remove text in square brackets,remove links,remove punctuation\n",
    "    and remove words containing numbers.'''\n",
    "    stem=str(input(\"Enter what type of stemmer you need to apply to text:\")).strip()\n",
    "    \n",
    "    if stem ==\"PorterStemmer\":\n",
    "        stemmer = PorterStemmer()\n",
    "        tweets_clean = []\n",
    "        for i in data[column]:\n",
    "            i = str(i).lower()\n",
    "            i = re.sub('\\[.*?\\]', '', i)\n",
    "            i = re.sub('https?://\\S+|www\\.\\S+', '', i)\n",
    "            i = re.sub('<.*?>+', '', i)\n",
    "            i = re.sub('[%s]' % re.escape(string.punctuation), '', i)\n",
    "            i = re.sub('\\n', '', i)\n",
    "            i = re.sub('\\w*\\d\\w*', '', i)\n",
    "            i = re.sub(r'\\$\\w*', '', i)\n",
    "            # remove old style retweet text \"RT\"\n",
    "            i = re.sub(r'^RT[\\s]+', '', i)\n",
    "            # remove hyperlinks\n",
    "            i = re.sub(r'https?:\\/\\/.*[\\r\\n]*', '', i)\n",
    "            # remove hashtags\n",
    "            # only removing the hash # sign from the word\n",
    "            i = re.sub(r'[#@]+', '', i)\n",
    "    \n",
    "    \n",
    "            tokenizer = TweetTokenizer(preserve_case=False, strip_handles=True,\n",
    "                                       reduce_len=True)\n",
    "            tweet_tokens = tokenizer.tokenize(i)\n",
    "        \n",
    "            \n",
    "            \n",
    "            text = [stemmer.stem(word) for word in tweet_tokens if word not in set(stopwords.words('english'))]\n",
    "            text = ' '.join(text)\n",
    "            tweets_clean.append(text)\n",
    "    \n",
    "\n",
    "    \n",
    "        return tweets_clean\n",
    "    \n",
    "    \n",
    "    elif stem ==\"SnowballStemmer\":\n",
    "        stemmer = SnowballStemmer(\"english\")\n",
    "        tweets_clean = []\n",
    "        for i in data[column]:\n",
    "            i = str(i).lower()\n",
    "            i = re.sub('\\[.*?\\]', '', i)\n",
    "            i = re.sub('https?://\\S+|www\\.\\S+', '', i)\n",
    "            i = re.sub('<.*?>+', '', i)\n",
    "            i = re.sub('[%s]' % re.escape(string.punctuation), '', i)\n",
    "            i = re.sub('\\n', '', i)\n",
    "            i = re.sub('\\w*\\d\\w*', '', i)\n",
    "            i = re.sub(r'\\$\\w*', '', i)\n",
    "            # remove old style retweet text \"RT\"\n",
    "            i = re.sub(r'^RT[\\s]+', '', i)\n",
    "            # remove hyperlinks\n",
    "            i = re.sub(r'https?:\\/\\/.*[\\r\\n]*', '', i)\n",
    "            # remove hashtags\n",
    "            # only removing the hash # sign from the word\n",
    "            i = re.sub(r'[#@]+', '', i)\n",
    "    \n",
    "    \n",
    "            tokenizer = TweetTokenizer(preserve_case=False, strip_handles=True,\n",
    "                                       reduce_len=True)\n",
    "            tweet_tokens = tokenizer.tokenize(i)\n",
    "        \n",
    "            \n",
    "            \n",
    "            text = [stemmer.stem(word) for word in tweet_tokens if word not in set(stopwords.words('english'))]\n",
    "            text = ' '.join(text)\n",
    "            tweets_clean.append(text)\n",
    "    \n",
    "\n",
    "    \n",
    "        return tweets_clean\n",
    "    \n",
    "    elif stem ==\"WordNetLemmatizer\":\n",
    "        stemmer = WordNetLemmatizer()\n",
    "        tweets_clean = []\n",
    "        for i in data[column]:\n",
    "            i = str(i).lower()\n",
    "            i = re.sub('\\[.*?\\]', '', i)\n",
    "            i = re.sub('https?://\\S+|www\\.\\S+', '', i)\n",
    "            i = re.sub('<.*?>+', '', i)\n",
    "            i = re.sub('[%s]' % re.escape(string.punctuation), '', i)\n",
    "            i = re.sub('\\n', '', i)\n",
    "            i = re.sub('\\w*\\d\\w*', '', i)\n",
    "            i = re.sub(r'\\$\\w*', '', i)\n",
    "            # remove old style retweet text \"RT\"\n",
    "            i = re.sub(r'^RT[\\s]+', '', i)\n",
    "            # remove hyperlinks\n",
    "            i = re.sub(r'https?:\\/\\/.*[\\r\\n]*', '', i)\n",
    "            # remove hashtags\n",
    "            # only removing the hash # sign from the word\n",
    "            i = re.sub(r'[#@]+', '', i)\n",
    "    \n",
    "    \n",
    "            tokenizer = TweetTokenizer(preserve_case=False, strip_handles=True,\n",
    "                                       reduce_len=True)\n",
    "            tweet_tokens = tokenizer.tokenize(i)\n",
    "        \n",
    "            \n",
    "            \n",
    "            text = [stemmer.lemmatize(word) for word in tweet_tokens if word not in set(stopwords.words('english'))]\n",
    "            text = ' '.join(text)\n",
    "            tweets_clean.append(text)\n",
    "    \n",
    "\n",
    "    \n",
    "        return tweets_clean\n",
    "    \n",
    "    else:\n",
    "        print(\"Your desired stemmer is not in the dictionary:PorterStemmer,WordNetLemmatizer,SnowballStemmer\\nPlease check and try with the given stemmers only\")\n",
    "        \n",
    "    "
   ]
  },
  {
   "cell_type": "code",
   "execution_count": 2,
   "metadata": {},
   "outputs": [
    {
     "ename": "NameError",
     "evalue": "name 'df1' is not defined",
     "output_type": "error",
     "traceback": [
      "\u001b[1;31m---------------------------------------------------------------------------\u001b[0m",
      "\u001b[1;31mNameError\u001b[0m                                 Traceback (most recent call last)",
      "\u001b[1;32m<ipython-input-2-57aee9dd2956>\u001b[0m in \u001b[0;36m<module>\u001b[1;34m\u001b[0m\n\u001b[1;32m----> 1\u001b[1;33m \u001b[0mdf1\u001b[0m\u001b[1;33m[\u001b[0m\u001b[1;34m\"cleandfdfdfdf\"\u001b[0m\u001b[1;33m]\u001b[0m\u001b[1;33m=\u001b[0m\u001b[0mcleantext\u001b[0m\u001b[1;33m(\u001b[0m\u001b[0mdf1\u001b[0m\u001b[1;33m,\u001b[0m\u001b[1;34m\"text\"\u001b[0m\u001b[1;33m)\u001b[0m\u001b[1;33m\u001b[0m\u001b[1;33m\u001b[0m\u001b[0m\n\u001b[0m",
      "\u001b[1;31mNameError\u001b[0m: name 'df1' is not defined"
     ]
    }
   ],
   "source": [
    "df1[\"cleandfdfdfdf\"]=cleantext(df1,\"text\")"
   ]
  },
  {
   "cell_type": "code",
   "execution_count": 12,
   "metadata": {},
   "outputs": [
    {
     "data": {
      "text/html": [
       "<div>\n",
       "<style scoped>\n",
       "    .dataframe tbody tr th:only-of-type {\n",
       "        vertical-align: middle;\n",
       "    }\n",
       "\n",
       "    .dataframe tbody tr th {\n",
       "        vertical-align: top;\n",
       "    }\n",
       "\n",
       "    .dataframe thead th {\n",
       "        text-align: right;\n",
       "    }\n",
       "</style>\n",
       "<table border=\"1\" class=\"dataframe\">\n",
       "  <thead>\n",
       "    <tr style=\"text-align: right;\">\n",
       "      <th></th>\n",
       "      <th>target</th>\n",
       "      <th>text</th>\n",
       "      <th>cleandfdfdfdf</th>\n",
       "    </tr>\n",
       "  </thead>\n",
       "  <tbody>\n",
       "    <tr>\n",
       "      <th>0</th>\n",
       "      <td>0</td>\n",
       "      <td>@switchfoot http://twitpic.com/2y1zl - Awww, t...</td>\n",
       "      <td>switchfoot awww that bummer shoulda got david ...</td>\n",
       "    </tr>\n",
       "    <tr>\n",
       "      <th>1</th>\n",
       "      <td>0</td>\n",
       "      <td>is upset that he can't update his Facebook by ...</td>\n",
       "      <td>upset cant updat facebook text might cri resul...</td>\n",
       "    </tr>\n",
       "    <tr>\n",
       "      <th>2</th>\n",
       "      <td>0</td>\n",
       "      <td>@Kenichan I dived many times for the ball. Man...</td>\n",
       "      <td>kenichan dive mani time ball manag save rest g...</td>\n",
       "    </tr>\n",
       "    <tr>\n",
       "      <th>3</th>\n",
       "      <td>0</td>\n",
       "      <td>my whole body feels itchy and like its on fire</td>\n",
       "      <td>whole bodi feel itchi like fire</td>\n",
       "    </tr>\n",
       "    <tr>\n",
       "      <th>4</th>\n",
       "      <td>0</td>\n",
       "      <td>@nationwideclass no, it's not behaving at all....</td>\n",
       "      <td>nationwideclass behav im mad cant see</td>\n",
       "    </tr>\n",
       "  </tbody>\n",
       "</table>\n",
       "</div>"
      ],
      "text/plain": [
       "   target                                               text  \\\n",
       "0       0  @switchfoot http://twitpic.com/2y1zl - Awww, t...   \n",
       "1       0  is upset that he can't update his Facebook by ...   \n",
       "2       0  @Kenichan I dived many times for the ball. Man...   \n",
       "3       0    my whole body feels itchy and like its on fire    \n",
       "4       0  @nationwideclass no, it's not behaving at all....   \n",
       "\n",
       "                                       cleandfdfdfdf  \n",
       "0  switchfoot awww that bummer shoulda got david ...  \n",
       "1  upset cant updat facebook text might cri resul...  \n",
       "2  kenichan dive mani time ball manag save rest g...  \n",
       "3                    whole bodi feel itchi like fire  \n",
       "4              nationwideclass behav im mad cant see  "
      ]
     },
     "execution_count": 12,
     "metadata": {},
     "output_type": "execute_result"
    }
   ],
   "source": [
    "df1.head()"
   ]
  },
  {
   "cell_type": "code",
   "execution_count": null,
   "metadata": {},
   "outputs": [],
   "source": []
  }
 ],
 "metadata": {
  "accelerator": "GPU",
  "colab": {
   "authorship_tag": "ABX9TyOE5FAoNgCBiZV7rFrpwBX0",
   "mount_file_id": "1Vqe9L1UnHoGaxJSgBZdKWp55HGdBM_DN",
   "name": "Twitter sentiment analysis.ipynb",
   "provenance": []
  },
  "kernelspec": {
   "display_name": "Python 3",
   "language": "python",
   "name": "python3"
  },
  "language_info": {
   "codemirror_mode": {
    "name": "ipython",
    "version": 3
   },
   "file_extension": ".py",
   "mimetype": "text/x-python",
   "name": "python",
   "nbconvert_exporter": "python",
   "pygments_lexer": "ipython3",
   "version": "3.8.3"
  }
 },
 "nbformat": 4,
 "nbformat_minor": 1
}
